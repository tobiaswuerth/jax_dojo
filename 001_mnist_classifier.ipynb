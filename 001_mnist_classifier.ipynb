{
 "cells": [
  {
   "cell_type": "code",
   "execution_count": 1,
   "metadata": {},
   "outputs": [],
   "source": [
    "\"\"\"A basic MNIST example using JAX with the mini-libraries stax and optimizers.\n",
    "The mini-library jax.example_libraries.stax is for neural network building, and\n",
    "the mini-library jax.example_libraries.optimizers is for first-order stochastic\n",
    "optimization.\n",
    "\"\"\"\n",
    "\n",
    "import time\n",
    "import itertools\n",
    "import tqdm\n",
    "\n",
    "import numpy.random as npr\n",
    "\n",
    "import jax.numpy as jnp\n",
    "from jax import jit, grad, random\n",
    "from jax.example_libraries import optimizers\n",
    "from jax.example_libraries import stax\n",
    "from jax.example_libraries.stax import Dense, Relu, LogSoftmax"
   ]
  },
  {
   "cell_type": "code",
   "execution_count": 2,
   "metadata": {},
   "outputs": [],
   "source": [
    "# datasets.py\n",
    "# Copyright 2018 The JAX Authors.\n",
    "#\n",
    "# Licensed under the Apache License, Version 2.0 (the \"License\");\n",
    "# you may not use this file except in compliance with the License.\n",
    "# You may obtain a copy of the License at\n",
    "#\n",
    "#     https://www.apache.org/licenses/LICENSE-2.0\n",
    "#\n",
    "# Unless required by applicable law or agreed to in writing, software\n",
    "# distributed under the License is distributed on an \"AS IS\" BASIS,\n",
    "# WITHOUT WARRANTIES OR CONDITIONS OF ANY KIND, either express or implied.\n",
    "# See the License for the specific language governing permissions and\n",
    "# limitations under the License.\n",
    "\n",
    "\"\"\"Datasets used in examples.\"\"\"\n",
    "\n",
    "\n",
    "import array\n",
    "import gzip\n",
    "import os\n",
    "from os import path\n",
    "import struct\n",
    "import urllib.request\n",
    "\n",
    "import numpy as np\n",
    "\n",
    "\n",
    "_DATA = \"/tmp/jax_example_data/\"\n",
    "\n",
    "\n",
    "def _download(url, filename):\n",
    "  \"\"\"Download a url to a file in the JAX data temp directory.\"\"\"\n",
    "  if not path.exists(_DATA):\n",
    "    os.makedirs(_DATA)\n",
    "  out_file = path.join(_DATA, filename)\n",
    "  if not path.isfile(out_file):\n",
    "    urllib.request.urlretrieve(url, out_file)\n",
    "    print(f\"downloaded {url} to {_DATA}\")\n",
    "\n",
    "\n",
    "def _partial_flatten(x):\n",
    "  \"\"\"Flatten all but the first dimension of an ndarray.\"\"\"\n",
    "  return np.reshape(x, (x.shape[0], -1))\n",
    "\n",
    "\n",
    "def _one_hot(x, k, dtype=np.float32):\n",
    "  \"\"\"Create a one-hot encoding of x of size k.\"\"\"\n",
    "  return np.array(x[:, None] == np.arange(k), dtype)\n",
    "\n",
    "\n",
    "def mnist_raw():\n",
    "  \"\"\"Download and parse the raw MNIST dataset.\"\"\"\n",
    "  # CVDF mirror of http://yann.lecun.com/exdb/mnist/\n",
    "  base_url = \"https://storage.googleapis.com/cvdf-datasets/mnist/\"\n",
    "\n",
    "  def parse_labels(filename):\n",
    "    with gzip.open(filename, \"rb\") as fh:\n",
    "      _ = struct.unpack(\">II\", fh.read(8))\n",
    "      return np.array(array.array(\"B\", fh.read()), dtype=np.uint8)\n",
    "\n",
    "  def parse_images(filename):\n",
    "    with gzip.open(filename, \"rb\") as fh:\n",
    "      _, num_data, rows, cols = struct.unpack(\">IIII\", fh.read(16))\n",
    "      return np.array(array.array(\"B\", fh.read()),\n",
    "                      dtype=np.uint8).reshape(num_data, rows, cols)\n",
    "\n",
    "  for filename in [\"train-images-idx3-ubyte.gz\", \"train-labels-idx1-ubyte.gz\",\n",
    "                   \"t10k-images-idx3-ubyte.gz\", \"t10k-labels-idx1-ubyte.gz\"]:\n",
    "    _download(base_url + filename, filename)\n",
    "\n",
    "  train_images = parse_images(path.join(_DATA, \"train-images-idx3-ubyte.gz\"))\n",
    "  train_labels = parse_labels(path.join(_DATA, \"train-labels-idx1-ubyte.gz\"))\n",
    "  test_images = parse_images(path.join(_DATA, \"t10k-images-idx3-ubyte.gz\"))\n",
    "  test_labels = parse_labels(path.join(_DATA, \"t10k-labels-idx1-ubyte.gz\"))\n",
    "\n",
    "  return train_images, train_labels, test_images, test_labels\n",
    "\n",
    "\n",
    "def mnist(permute_train=False):\n",
    "  \"\"\"Download, parse and process MNIST data to unit scale and one-hot labels.\"\"\"\n",
    "  train_images, train_labels, test_images, test_labels = mnist_raw()\n",
    "\n",
    "  train_images = _partial_flatten(train_images) / np.float32(255.)\n",
    "  test_images = _partial_flatten(test_images) / np.float32(255.)\n",
    "  train_labels = _one_hot(train_labels, 10)\n",
    "  test_labels = _one_hot(test_labels, 10)\n",
    "\n",
    "  if permute_train:\n",
    "    perm = np.random.RandomState(0).permutation(train_images.shape[0])\n",
    "    train_images = train_images[perm]\n",
    "    train_labels = train_labels[perm]\n",
    "\n",
    "  return train_images, train_labels, test_images, test_labels"
   ]
  },
  {
   "cell_type": "code",
   "execution_count": 3,
   "metadata": {},
   "outputs": [],
   "source": [
    "batch_size = 128\n",
    "train_images, train_labels, test_images, test_labels = mnist()\n",
    "num_train = train_images.shape[0]\n",
    "num_complete_batches, leftover = divmod(num_train, batch_size)\n",
    "num_batches = num_complete_batches + bool(leftover)\n",
    "\n",
    "def data_stream():\n",
    "  rng = npr.RandomState(0)\n",
    "  while True:\n",
    "    perm = rng.permutation(num_train)\n",
    "    for i in range(num_batches):\n",
    "      batch_idx = perm[i * batch_size:(i + 1) * batch_size]\n",
    "      yield train_images[batch_idx], train_labels[batch_idx]\n",
    "\n",
    "batches = data_stream()"
   ]
  },
  {
   "cell_type": "code",
   "execution_count": 6,
   "metadata": {},
   "outputs": [
    {
     "name": "stdout",
     "output_type": "stream",
     "text": [
      "Starting training...\n"
     ]
    },
    {
     "name": "stderr",
     "output_type": "stream",
     "text": [
      "100%|██████████| 20/20 [00:06<00:00,  3.23it/s]"
     ]
    },
    {
     "name": "stdout",
     "output_type": "stream",
     "text": [
      "Training done.\n"
     ]
    },
    {
     "name": "stderr",
     "output_type": "stream",
     "text": [
      "\n"
     ]
    }
   ],
   "source": [
    "rng = random.key(0)\n",
    "\n",
    "step_size = 0.001\n",
    "num_epochs = 20\n",
    "momentum_mass = 0.9\n",
    "\n",
    "opt_init, opt_update, get_params = optimizers.momentum(step_size, mass=momentum_mass)\n",
    "\n",
    "def loss(params, batch):\n",
    "    inputs, targets = batch\n",
    "    preds = predict(params, inputs)\n",
    "    return -jnp.mean(jnp.sum(preds * targets, axis=1))\n",
    "\n",
    "def accuracy(params, batch):\n",
    "    inputs, targets = batch\n",
    "    target_class = jnp.argmax(targets, axis=1)\n",
    "    predicted_class = jnp.argmax(predict(params, inputs), axis=1)\n",
    "    return jnp.mean(predicted_class == target_class)\n",
    "\n",
    "@jit\n",
    "def update(i, opt_state, batch):\n",
    "    params = get_params(opt_state)\n",
    "    return opt_update(i, grad(loss)(params, batch), opt_state)\n",
    "\n",
    "init_random_params, predict = stax.serial(\n",
    "    Dense(1024),\n",
    "    Relu,\n",
    "    Dense(1024),\n",
    "    Relu,\n",
    "    Dense(10),\n",
    "    LogSoftmax\n",
    ")\n",
    "\n",
    "_, init_params = init_random_params(rng, (-1, 28 * 28))\n",
    "opt_state = opt_init(init_params)\n",
    "itercount = itertools.count()\n",
    "\n",
    "train_accs = []\n",
    "test_accs = []\n",
    "print(\"Starting training...\")\n",
    "for epoch in tqdm.trange(num_epochs):\n",
    "    start_time = time.time()\n",
    "    for _ in range(num_batches):\n",
    "        opt_state = update(next(itercount), opt_state, next(batches))\n",
    "    epoch_time = time.time() - start_time\n",
    "    params = get_params(opt_state)\n",
    "    train_accs.append(accuracy(params, (train_images, train_labels)))\n",
    "    test_accs.append(accuracy(params, (test_images, test_labels)))\n",
    "print(\"Training done.\")"
   ]
  },
  {
   "cell_type": "code",
   "execution_count": 8,
   "metadata": {},
   "outputs": [
    {
     "data": {
      "text/plain": [
       "Array(0.9576, dtype=float32)"
      ]
     },
     "execution_count": 8,
     "metadata": {},
     "output_type": "execute_result"
    }
   ],
   "source": [
    "test_accs[-1]"
   ]
  },
  {
   "cell_type": "code",
   "execution_count": 7,
   "metadata": {},
   "outputs": [
    {
     "data": {
      "image/png": "[encoded data removed]",
      "text/plain": [
       "<Figure size 640x480 with 1 Axes>"
      ]
     },
     "metadata": {},
     "output_type": "display_data"
    }
   ],
   "source": [
    "from matplotlib import pyplot as plt\n",
    "plt.plot(train_accs, label='Train')\n",
    "plt.plot(test_accs, label='Test')\n",
    "plt.legend()\n",
    "plt.show()"
   ]
  }
 ],
 "metadata": {
  "kernelspec": {
   "display_name": ".venv",
   "language": "python",
   "name": "python3"
  },
  "language_info": {
   "codemirror_mode": {
    "name": "ipython",
    "version": 3
   },
   "file_extension": ".py",
   "mimetype": "text/x-python",
   "name": "python",
   "nbconvert_exporter": "python",
   "pygments_lexer": "ipython3",
   "version": "3.10.12"
  }
 },
 "nbformat": 4,
 "nbformat_minor": 2
}
